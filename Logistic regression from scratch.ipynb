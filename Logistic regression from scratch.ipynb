{
 "cells": [
  {
   "cell_type": "code",
   "execution_count": 1,
   "id": "c33797c1-1fe1-496b-8cb1-88b55dc64a29",
   "metadata": {},
   "outputs": [],
   "source": [
    "# Importing libraries \n",
    "import numpy as np \n",
    "import pandas as pd \n",
    "from sklearn.model_selection import train_test_split "
   ]
  },
  {
   "cell_type": "code",
   "execution_count": 2,
   "id": "5e6649e4-6321-4bd2-82a0-118ed02141a6",
   "metadata": {},
   "outputs": [],
   "source": [
    "class LogisticRegression() : \n",
    "    def __init__( self, learning_rate, iterations ) :         \n",
    "        self.learning_rate = learning_rate         \n",
    "        self.iterations = iterations \n",
    "          \n",
    "    # Function for model training     \n",
    "    def fit( self, X, Y ) :         \n",
    "        # no_of_training_examples, no_of_features         \n",
    "        self.m, self.n = X.shape         \n",
    "        # weight initialization         \n",
    "        self.W = np.zeros( self.n )         \n",
    "        self.b = 0        \n",
    "        self.X = X         \n",
    "        self.Y = Y \n",
    "          \n",
    "        # gradient descent learning \n",
    "                  \n",
    "        for i in range( self.iterations ) :             \n",
    "            self.update_weights()             \n",
    "        return self\n",
    "      \n",
    "    # Helper function to update weights in gradient descent \n",
    "      \n",
    "    def update_weights( self ) :            \n",
    "        A = 1 / ( 1 + np.exp( - ( self.X.dot( self.W ) + self.b ) ) ) \n",
    "          \n",
    "        # calculate gradients         \n",
    "        tmp = ( A - self.Y.T )         \n",
    "        tmp = np.reshape( tmp, self.m )         \n",
    "        dW = np.dot( self.X.T, tmp ) / self.m          \n",
    "        db = np.sum( tmp ) / self.m  \n",
    "          \n",
    "        # update weights     \n",
    "        self.W = self.W - self.learning_rate * dW     \n",
    "        self.b = self.b - self.learning_rate * db \n",
    "          \n",
    "        return self\n",
    "      \n",
    "    # Hypothetical function  h( x )  \n",
    "      \n",
    "    def predict( self, X ) :     \n",
    "        Z = 1 / ( 1 + np.exp( - ( X.dot( self.W ) + self.b ) ) )         \n",
    "        Y = np.where( Z > 0.5, 1, 0 )         \n",
    "        return Y "
   ]
  },
  {
   "cell_type": "code",
   "execution_count": 8,
   "id": "195f34bd-6ca4-4abb-ba6a-c54a1c998e2a",
   "metadata": {},
   "outputs": [
    {
     "name": "stdout",
     "output_type": "stream",
     "text": [
      "Accuracy on test set :   67.578125\n"
     ]
    }
   ],
   "source": [
    "def main() : \n",
    "      \n",
    "    # Importing dataset     \n",
    "    df = pd.read_csv( \"diabetes.csv\" ) \n",
    "    X = df.iloc[:,:-1].values \n",
    "    Y = df.iloc[:,-1:].values \n",
    "      \n",
    "    # Splitting dataset into train and test set \n",
    "    X_train, X_test, Y_train, Y_test = train_test_split(X, Y, test_size = 1/3, random_state = 0 ) \n",
    "      \n",
    "    # Model training     \n",
    "    model = LogisticRegression( learning_rate = 0.01, iterations = 10000 ) \n",
    "    model.fit( X_train, Y_train )   \n",
    "          \n",
    "    # Prediction on test set \n",
    "    Y_pred = model.predict( X_test )     \n",
    "          \n",
    "    # measure performance     \n",
    "    correctly_classified = 0    \n",
    "          \n",
    "    # counter     \n",
    "    count = 0    \n",
    "    for count in range( np.size( Y_pred ) ) :   \n",
    "        \n",
    "        if Y_test[count] == Y_pred[count] :             \n",
    "            correctly_classified = correctly_classified + 1              \n",
    "        count = count + 1\n",
    "          \n",
    "    print( \"Accuracy on test set :  \", (correctly_classified / count ) * 100 )   \n",
    "  \n",
    "if __name__ == \"__main__\" :      \n",
    "    main()"
   ]
  },
  {
   "cell_type": "code",
   "execution_count": null,
   "id": "aed0637b-fc8e-4f37-88c8-7c2743097cc9",
   "metadata": {},
   "outputs": [],
   "source": []
  }
 ],
 "metadata": {
  "kernelspec": {
   "display_name": "Python 3 (ipykernel)",
   "language": "python",
   "name": "python3"
  },
  "language_info": {
   "codemirror_mode": {
    "name": "ipython",
    "version": 3
   },
   "file_extension": ".py",
   "mimetype": "text/x-python",
   "name": "python",
   "nbconvert_exporter": "python",
   "pygments_lexer": "ipython3",
   "version": "3.10.4"
  }
 },
 "nbformat": 4,
 "nbformat_minor": 5
}
